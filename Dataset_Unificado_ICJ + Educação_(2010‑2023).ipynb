{
  "nbformat": 4,
  "nbformat_minor": 0,
  "metadata": {
    "colab": {
      "provenance": [],
      "authorship_tag": "ABX9TyNLcTcZgm9Snx1tPoYohMJL",
      "include_colab_link": true
    },
    "kernelspec": {
      "name": "python3",
      "display_name": "Python 3"
    },
    "language_info": {
      "name": "python"
    }
  },
  "cells": [
    {
      "cell_type": "markdown",
      "metadata": {
        "id": "view-in-github",
        "colab_type": "text"
      },
      "source": [
        "<a href=\"https://colab.research.google.com/github/tiago15anjos/DataSat_Unificado_Final/blob/main/Dataset_Unificado_ICJ%E2%80%AF%2B%E2%80%AFEduca%C3%A7%C3%A3o_(2010%E2%80%912023).ipynb\" target=\"_parent\"><img src=\"https://colab.research.google.com/assets/colab-badge.svg\" alt=\"Open In Colab\"/></a>"
      ]
    },
    {
      "cell_type": "code",
      "source": [
        "import pandas as pd\n",
        "\n",
        "# ─── 1. Arquivos no /content ─────────────────────────────────────────────\n",
        "ICJ_FILE  = \"ICJ_Municipio_Ano_2010_2023.xlsx\"\n",
        "EB_FILE   = \"MATRICULAS_EB_ENSF_ENSM_ENSMT_2010_2023_LIMPO.xlsx\"\n",
        "FORM_FILE = \"FORMACAO_PROF_EB_2010_2023_LIMPO.xlsx\"\n",
        "SUP_FILE  = \"MATRICULA_ENS_SUP_2010_a_2023_LIMPO.xlsx\"\n",
        "\n",
        "# ─── 2. Listas de colunas ────────────────────────────────────────────────\n",
        "DIM_COMUNS = [\n",
        "    \"Regiao_Geografica\", \"Unidade_Federacao\", \"Nome_Municipio\",\n",
        "    \"Codigo_IBGE\", \"Ano\"\n",
        "]\n",
        "DIM_EXTRA = [\"Sigla_UF\", \"Pais\"]\n",
        "\n",
        "ICJ_METRICS = [\n",
        "    \"Qtd_Bolsistas\",\n",
        "    \"Valor_Rs_mean\", \"Valor_Rs_sum\",\n",
        "    \"Valor_USS_mean\", \"Valor_USS_sum\",\n",
        "    \"Benef_Modal/Ano_mean\", \"Benef_Modal/Ano_sum\",\n",
        "    \"Bolsa/Ano_mean\", \"Bolsa/Ano_sum\",\n",
        "    \"Auxílio/Ano_mean\", \"Auxílio/Ano_sum\"\n",
        "]\n",
        "EB_METRICS   = [\"Ens_Fund_Anos_Finais\", \"Ensino_Medio\", \"Ensino_Medio_Tecnico\"]\n",
        "FORM_METRICS = [\"Graduação_Total\", \"Com_Especialização\", \"Com_Mestrado\", \"Com_Doutorado\"]\n",
        "SUP_METRICS  = [\n",
        "    \"Total_Geral\", \"Total_Publica\", \"Federal\", \"Estadual\", \"Municipal\",\n",
        "    \"Total_Privada\", \"Com Fins Lucrativos\", \"Sem Fins Lucrativos\"\n",
        "]\n",
        "\n",
        "# ─── 3. Ler planilhas (mantendo dimensões completas) ─────────────────────\n",
        "icj  = pd.read_excel(ICJ_FILE ,\n",
        "                     usecols=lambda c: c in DIM_COMUNS + DIM_EXTRA + ICJ_METRICS)\n",
        "\n",
        "# → Matrículas EB: renomear 'Unidade_da_Federacao'\n",
        "eb   = pd.read_excel(EB_FILE)\n",
        "eb   = eb.rename(columns={\"Unidade_da_Federacao\": \"Unidade_Federacao\"})\n",
        "eb   = eb[DIM_COMUNS + EB_METRICS]     # mantém apenas o que interessa\n",
        "\n",
        "form = pd.read_excel(FORM_FILE)\n",
        "form = form[DIM_COMUNS + FORM_METRICS]\n",
        "\n",
        "sup  = pd.read_excel(SUP_FILE)\n",
        "sup  = sup[DIM_COMUNS + SUP_METRICS]\n",
        "\n",
        "# ─── 4. Mesclar EB com ICJ (mantendo campos duplicados) ──────────────────\n",
        "merged = icj.merge(\n",
        "    eb, on=[\"Codigo_IBGE\", \"Ano\"], how=\"outer\", suffixes=(\"\", \"_eb\")\n",
        ")\n",
        "\n",
        "# Preencher dimensões faltantes com valores que vieram do EB\n",
        "for col in DIM_COMUNS:\n",
        "    if col+\"_eb\" in merged.columns:\n",
        "        merged[col] = merged[col].combine_first(merged[col+\"_eb\"])\n",
        "        merged.drop(columns=col+\"_eb\", inplace=True)\n",
        "\n",
        "# ─── 5. Juntar FORM (com preenchimento) ──────────────────────────────────\n",
        "merged = merged.merge(form, on=[\"Codigo_IBGE\", \"Ano\"], how=\"outer\", suffixes=(\"\", \"_form\"))\n",
        "for col in DIM_COMUNS:\n",
        "    if col+\"_form\" in merged.columns:\n",
        "        merged[col] = merged[col].combine_first(merged[col+\"_form\"])\n",
        "        merged.drop(columns=col+\"_form\", inplace=True)\n",
        "\n",
        "# ─── 6. Juntar SUP (com preenchimento) ───────────────────────────────────\n",
        "merged = merged.merge(sup, on=[\"Codigo_IBGE\", \"Ano\"], how=\"outer\", suffixes=(\"\", \"_sup\"))\n",
        "for col in DIM_COMUNS:\n",
        "    if col+\"_sup\" in merged.columns:\n",
        "        merged[col] = merged[col].combine_first(merged[col+\"_sup\"])\n",
        "        merged.drop(columns=col+\"_sup\", inplace=True)\n",
        "\n",
        "# ─── 7. Reordenar colunas ────────────────────────────────────────────────\n",
        "ORDER = (\n",
        "    DIM_COMUNS + DIM_EXTRA +\n",
        "    ICJ_METRICS +\n",
        "    EB_METRICS +\n",
        "    FORM_METRICS +\n",
        "    SUP_METRICS\n",
        ")\n",
        "ORDER = [c for c in ORDER if c in merged.columns]  # garante existência\n",
        "merged = merged[ORDER]\n",
        "\n",
        "# ─── 8. Exportar resultado ───────────────────────────────────────────────\n",
        "OUTPUT = \"ICJ_EB_SUP_FORM_Merged_2010_2023.xlsx\"\n",
        "merged.to_excel(OUTPUT, index=False)\n",
        "print(\"✅ Arquivo final salvo como:\", OUTPUT)\n"
      ],
      "metadata": {
        "colab": {
          "base_uri": "https://localhost:8080/"
        },
        "id": "XD7QtGhw7adB",
        "outputId": "40a1f2d1-ade5-486e-ea57-4fd589373bf5"
      },
      "execution_count": 8,
      "outputs": [
        {
          "output_type": "stream",
          "name": "stdout",
          "text": [
            "✅ Arquivo final salvo como: ICJ_EB_SUP_FORM_Merged_2010_2023.xlsx\n"
          ]
        }
      ]
    }
  ]
}